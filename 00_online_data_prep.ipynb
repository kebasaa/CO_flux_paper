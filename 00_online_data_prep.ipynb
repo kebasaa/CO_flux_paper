{
 "cells": [
  {
   "cell_type": "markdown",
   "id": "b79ab6d7-7441-4571-bbe0-66e6b0ee7d4b",
   "metadata": {},
   "source": [
    "# Create output"
   ]
  },
  {
   "cell_type": "code",
   "execution_count": null,
   "id": "9f2330f3-466d-42bf-a988-c331c0c03759",
   "metadata": {},
   "outputs": [],
   "source": [
    "import pandas as pd\n",
    "import glob"
   ]
  },
  {
   "cell_type": "code",
   "execution_count": null,
   "id": "a04c8441-730f-449e-8d97-bdd8d7e462a1",
   "metadata": {},
   "outputs": [],
   "source": [
    "project_path = './'\n",
    "\n",
    "input_fn = 'all_data.csv'\n",
    "\n",
    "output_fn = 'data_full.csv'"
   ]
  },
  {
   "cell_type": "code",
   "execution_count": null,
   "id": "a56632d8-b6d5-4456-976f-2149f44ec730",
   "metadata": {},
   "outputs": [],
   "source": [
    "print('Loading data...')\n",
    "\n",
    "df = pd.read_csv(project_path + input_fn)\n",
    "\n",
    "# Filter data\n",
    "df = df.loc[(df['timestamp'] >= '2020-09-01 00:00') & (df['timestamp'] < '2021-09-01 00:00')].copy()\n",
    "df = df.loc[df['status'] == 'cc'].copy()\n",
    "df = df.loc[~df['rain'].isin(['Post-rain', 'Rain'])]\n",
    "\n",
    "# Rename columns\n",
    "df.rename(columns={'plot': 'treatment',\n",
    "                   'flux.co.ch_oc.proj_la.nmol_m2_s': 'co.flux',\n",
    "                   'flux.h2o.ch_oc.proj_la.mmol_m2_s': 'Tr',\n",
    "                   'flux.co2.ch_oc.proj_la.umol_m2_s1': 'co2.flux',\n",
    "                   'par.current.chamber.umol_m2_s1': 'PAR',\n",
    "                   'temp.leaf.current.chamber.c': 'TL',\n",
    "                   'VPD.Pa': 'VPD',\n",
    "                   'swc_10_30cm': 'SWC'},\n",
    "          inplace=True)\n",
    "df.loc[df['treatment'] == 'irr', 'treatment'] = 'Irrigated'\n",
    "df.loc[df['treatment'] == 'ctr', 'treatment'] = 'Droughted'\n",
    "\n",
    "# Select only relevant ones\n",
    "out_df = df[['timestamp','season','treatment','co.flux', 'co2.flux','Tr','PAR','TL','VPD','SWC']]\n",
    "\n",
    "# Save\n",
    "out_df.to_csv(output_fn, index=False)\n",
    "\n",
    "print('Done...')"
   ]
  },
  {
   "cell_type": "code",
   "execution_count": null,
   "id": "9f8c49a4-89e9-4a8b-a363-eb6608eeb9c9",
   "metadata": {},
   "outputs": [],
   "source": []
  }
 ],
 "metadata": {
  "kernelspec": {
   "display_name": "dp",
   "language": "python",
   "name": "dp"
  },
  "language_info": {
   "codemirror_mode": {
    "name": "ipython",
    "version": 3
   },
   "file_extension": ".py",
   "mimetype": "text/x-python",
   "name": "python",
   "nbconvert_exporter": "python",
   "pygments_lexer": "ipython3",
   "version": "3.8.2"
  }
 },
 "nbformat": 4,
 "nbformat_minor": 5
}
