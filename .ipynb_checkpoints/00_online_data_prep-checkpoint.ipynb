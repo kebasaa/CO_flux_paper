{
 "cells": [
  {
   "cell_type": "markdown",
   "id": "b79ab6d7-7441-4571-bbe0-66e6b0ee7d4b",
   "metadata": {},
   "source": [
    "# Create output"
   ]
  },
  {
   "cell_type": "code",
   "execution_count": 1,
   "id": "9f2330f3-466d-42bf-a988-c331c0c03759",
   "metadata": {},
   "outputs": [],
   "source": [
    "import pandas as pd\n",
    "import glob"
   ]
  },
  {
   "cell_type": "code",
   "execution_count": 2,
   "id": "a04c8441-730f-449e-8d97-bdd8d7e462a1",
   "metadata": {},
   "outputs": [],
   "source": [
    "project_path = './'\n",
    "\n",
    "input_fn = 'all_data.csv'\n",
    "\n",
    "output_fn = 'data_full.csv'"
   ]
  },
  {
   "cell_type": "code",
   "execution_count": 4,
   "id": "a56632d8-b6d5-4456-976f-2149f44ec730",
   "metadata": {},
   "outputs": [
    {
     "name": "stdout",
     "output_type": "stream",
     "text": [
      "Loading data...\n",
      "- All data\n",
      "     100.0 %\t all_data.csv\n",
      "Done...\n"
     ]
    }
   ],
   "source": [
    "print('Loading data...')\n",
    "\n",
    "df = load_data(data_path + input_fn, silent=False)\n",
    "\n",
    "# Filter data\n",
    "df = df.loc[(df['timestamp'] >= '2020-09-01 00:00') & (df['timestamp'] < '2021-09-01 00:00')].copy()\n",
    "df = df.loc[df['status'] == 'cc'].copy()\n",
    "df = df.loc[~df['rain'].isin(['Post-rain', 'Rain'])]\n",
    "\n",
    "# Rename columns and select only relevant ones\n",
    "\n",
    "\n",
    "# Save\n",
    "\n",
    "\n",
    "print('Done...')"
   ]
  }
 ],
 "metadata": {
  "kernelspec": {
   "display_name": "dp",
   "language": "python",
   "name": "dp"
  },
  "language_info": {
   "codemirror_mode": {
    "name": "ipython",
    "version": 3
   },
   "file_extension": ".py",
   "mimetype": "text/x-python",
   "name": "python",
   "nbconvert_exporter": "python",
   "pygments_lexer": "ipython3",
   "version": "3.8.2"
  }
 },
 "nbformat": 4,
 "nbformat_minor": 5
}
